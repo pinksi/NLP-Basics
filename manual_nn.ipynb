{
 "cells": [
  {
   "cell_type": "code",
   "execution_count": 52,
   "metadata": {},
   "outputs": [],
   "source": [
    "import numpy as np"
   ]
  },
  {
   "cell_type": "code",
   "execution_count": 27,
   "metadata": {},
   "outputs": [],
   "source": [
    "class Operation():\n",
    "    def __init__(self, input_nodes=[]):\n",
    "        \n",
    "        self.input_nodes = input_nodes\n",
    "        self.output_nodes = []\n",
    "        \n",
    "        for node in input_nodes:\n",
    "            node.output_nodes.append(self)\n",
    "            \n",
    "        _default_graph.operations.append(self)\n",
    "            \n",
    "    def compute(self):\n",
    "        pass"
   ]
  },
  {
   "cell_type": "code",
   "execution_count": 28,
   "metadata": {},
   "outputs": [],
   "source": [
    "class add(Operation):\n",
    "    def __init__(self, x, y):\n",
    "        super().__init__([x,y])\n",
    "        \n",
    "    def compute(self, x_var, y_var):\n",
    "        self.inputs = [x_var, y_var]\n",
    "        return x_var + y_var"
   ]
  },
  {
   "cell_type": "code",
   "execution_count": 29,
   "metadata": {},
   "outputs": [],
   "source": [
    "class multiply(Operation):\n",
    "    def __init__(self, x, y):\n",
    "        super().__init__([x,y])\n",
    "        \n",
    "    def compute(self, x_var, y_var):\n",
    "        self.inputs = [x_var, y_var]\n",
    "        return x_var * y_var"
   ]
  },
  {
   "cell_type": "code",
   "execution_count": 30,
   "metadata": {},
   "outputs": [],
   "source": [
    "class matmul(Operation):\n",
    "    def __init__(self, x, y):\n",
    "        super().__init__([x,y])\n",
    "        \n",
    "    def compute(self, x_var, y_var):\n",
    "        self.inputs = [x_var, y_var]\n",
    "        return x_var.dot(y_var)"
   ]
  },
  {
   "cell_type": "code",
   "execution_count": 31,
   "metadata": {},
   "outputs": [],
   "source": [
    "class Placeholder():\n",
    "    def __init__(self):\n",
    "        self.output_nodes = []\n",
    "        _default_graph.placeholders.append(self)"
   ]
  },
  {
   "cell_type": "code",
   "execution_count": 32,
   "metadata": {},
   "outputs": [],
   "source": [
    "class Variable():\n",
    "    def __init__(self, initial_value=None):\n",
    "        self.value = initial_value\n",
    "        self.output_nodes = []\n",
    "        \n",
    "        _default_graph.variables.append(self)"
   ]
  },
  {
   "cell_type": "code",
   "execution_count": 33,
   "metadata": {},
   "outputs": [],
   "source": [
    "class Graph():\n",
    "    def __init__(self):\n",
    "        self.operations = []\n",
    "        self.placeholders = []\n",
    "        self.variables = []\n",
    "        \n",
    "    def set_as_default(self):\n",
    "        global _default_graph\n",
    "        _default_graph = self"
   ]
  },
  {
   "cell_type": "markdown",
   "metadata": {},
   "source": [
    "z = Ax + b\n",
    "A = 10\n",
    "b = 1\n",
    "z = 10x + 1"
   ]
  },
  {
   "cell_type": "code",
   "execution_count": 34,
   "metadata": {},
   "outputs": [],
   "source": [
    "g = Graph()\n",
    "g.set_as_default()"
   ]
  },
  {
   "cell_type": "code",
   "execution_count": 35,
   "metadata": {},
   "outputs": [],
   "source": [
    "A = Variable(10)\n",
    "b = Variable(1)"
   ]
  },
  {
   "cell_type": "code",
   "execution_count": 36,
   "metadata": {},
   "outputs": [],
   "source": [
    "x = Placeholder()"
   ]
  },
  {
   "cell_type": "code",
   "execution_count": 38,
   "metadata": {},
   "outputs": [],
   "source": [
    "z = add(multiply(A, x), b)"
   ]
  },
  {
   "cell_type": "code",
   "execution_count": 39,
   "metadata": {},
   "outputs": [],
   "source": [
    "def traverse_postorder(operation):\n",
    "    nodes_postorder = []\n",
    "    def recurse(node):\n",
    "        if isinstance(node, Operation):\n",
    "            for input_node in node.input_nodes:\n",
    "                recurse(input_node)\n",
    "        nodes_postorder.append(node)\n",
    "        \n",
    "    recurse(operation)\n",
    "    return nodes_postorder"
   ]
  },
  {
   "cell_type": "code",
   "execution_count": 40,
   "metadata": {},
   "outputs": [],
   "source": [
    "class Session():\n",
    "    \n",
    "    def run(self, operation, feed_dict={}):\n",
    "        nodes_postorder = traverse_postorder(operation)\n",
    "        for node in nodes_postorder:\n",
    "            if type(node) == Placeholder:\n",
    "                node.output = feed_dict[node]\n",
    "                \n",
    "            elif type(node) == Variable:\n",
    "                node.output = node.value\n",
    "                \n",
    "            else:\n",
    "                node.inputs = [input_node.output for input_node in node.input_nodes]\n",
    "                node.output = node.compute(*node.inputs)\n",
    "              \n",
    "            if type(node.output) == list:\n",
    "                node.output = np.array(node.output)\n",
    "                \n",
    "        return operation.output\n",
    "        "
   ]
  },
  {
   "cell_type": "code",
   "execution_count": 41,
   "metadata": {},
   "outputs": [],
   "source": [
    "sess = Session()"
   ]
  },
  {
   "cell_type": "code",
   "execution_count": 46,
   "metadata": {},
   "outputs": [],
   "source": [
    "result = sess.run(operation=z, feed_dict={x:10})"
   ]
  },
  {
   "cell_type": "code",
   "execution_count": 47,
   "metadata": {},
   "outputs": [
    {
     "data": {
      "text/plain": [
       "101"
      ]
     },
     "execution_count": 47,
     "metadata": {},
     "output_type": "execute_result"
    }
   ],
   "source": [
    "result"
   ]
  },
  {
   "cell_type": "code",
   "execution_count": 49,
   "metadata": {},
   "outputs": [],
   "source": [
    "g = Graph()\n",
    "g.set_as_default()\n",
    "\n",
    "A = Variable([[10,20], [30, 40]])\n",
    "b = Variable([1,1])\n",
    "\n",
    "x = Placeholder()\n",
    "z = add(matmul(A, x), b)"
   ]
  },
  {
   "cell_type": "code",
   "execution_count": 50,
   "metadata": {},
   "outputs": [],
   "source": [
    "sess = Session()"
   ]
  },
  {
   "cell_type": "code",
   "execution_count": 53,
   "metadata": {},
   "outputs": [
    {
     "data": {
      "text/plain": [
       "array([[101, 201],\n",
       "       [301, 401]])"
      ]
     },
     "execution_count": 53,
     "metadata": {},
     "output_type": "execute_result"
    }
   ],
   "source": [
    "sess.run(operation=z, feed_dict={x:10})"
   ]
  },
  {
   "cell_type": "markdown",
   "metadata": {},
   "source": [
    "Classification\n",
    "\n",
    "Activation Function"
   ]
  },
  {
   "cell_type": "code",
   "execution_count": 54,
   "metadata": {},
   "outputs": [],
   "source": [
    "import matplotlib.pyplot as plt\n",
    "%matplotlib inline"
   ]
  },
  {
   "cell_type": "code",
   "execution_count": 55,
   "metadata": {},
   "outputs": [],
   "source": [
    "def sigmoid(z):\n",
    "    return 1 / (1 + np.exp(-z))"
   ]
  },
  {
   "cell_type": "code",
   "execution_count": 57,
   "metadata": {},
   "outputs": [],
   "source": [
    "sample_z = np.linspace(-10, 10, 100)\n",
    "sample_a = sigmoid(sample_z)"
   ]
  },
  {
   "cell_type": "code",
   "execution_count": 58,
   "metadata": {},
   "outputs": [
    {
     "data": {
      "text/plain": [
       "[<matplotlib.lines.Line2D at 0x7f7ecc0160b8>]"
      ]
     },
     "execution_count": 58,
     "metadata": {},
     "output_type": "execute_result"
    },
    {
     "data": {
      "image/png": "[encoded data removed]",
      "text/plain": [
       "<Figure size 432x288 with 1 Axes>"
      ]
     },
     "metadata": {
      "needs_background": "light"
     },
     "output_type": "display_data"
    }
   ],
   "source": [
    "plt.plot(sample_z, sample_a)"
   ]
  },
  {
   "cell_type": "code",
   "execution_count": 61,
   "metadata": {},
   "outputs": [],
   "source": [
    "class Sigmoid(Operation):\n",
    "    def __init__(self, z):\n",
    "        super().__init__([z])\n",
    "        \n",
    "    def compute(self, z_val):\n",
    "        return 1 / (1 + np.exp(-z_val))"
   ]
  },
  {
   "cell_type": "code",
   "execution_count": 62,
   "metadata": {},
   "outputs": [],
   "source": [
    "from sklearn.datasets import make_blobs"
   ]
  },
  {
   "cell_type": "code",
   "execution_count": 63,
   "metadata": {},
   "outputs": [],
   "source": [
    "data = make_blobs(n_samples=50, n_features=2, centers=2, random_state=75)"
   ]
  },
  {
   "cell_type": "code",
   "execution_count": 64,
   "metadata": {},
   "outputs": [
    {
     "data": {
      "text/plain": [
       "(array([[  7.3402781 ,   9.36149154],\n",
       "        [  9.13332743,   8.74906102],\n",
       "        [  1.99243535,  -8.85885722],\n",
       "        [  7.38443759,   7.72520389],\n",
       "        [  7.97613887,   8.80878209],\n",
       "        [  7.76974352,   9.50899462],\n",
       "        [  8.3186688 ,  10.1026025 ],\n",
       "        [  8.79588546,   7.28046702],\n",
       "        [  9.81270381,   9.46968531],\n",
       "        [  1.57961049,  -8.17089971],\n",
       "        [  0.06441546,  -9.04982817],\n",
       "        [  7.2075117 ,   7.04533624],\n",
       "        [  9.10704928,   9.0272212 ],\n",
       "        [  1.82921897,  -9.86956281],\n",
       "        [  7.85036314,   7.986659  ],\n",
       "        [  3.04605603,  -7.50486114],\n",
       "        [  1.85582689,  -6.74473432],\n",
       "        [  2.88603902,  -8.85261704],\n",
       "        [ -1.20046211,  -9.55928542],\n",
       "        [  2.00890845,  -9.78471782],\n",
       "        [  7.68945113,   9.01706723],\n",
       "        [  6.42356167,   8.33356412],\n",
       "        [  8.15467319,   7.87489634],\n",
       "        [  1.92000795,  -7.50953708],\n",
       "        [  1.90073973,  -7.24386675],\n",
       "        [  7.7605855 ,   7.05124418],\n",
       "        [  6.90561582,   9.23493842],\n",
       "        [  0.65582768,  -9.5920878 ],\n",
       "        [  1.41804346,  -8.10517372],\n",
       "        [  9.65371965,   9.35409538],\n",
       "        [  1.23053506,  -7.98873571],\n",
       "        [  1.96322881,  -9.50169117],\n",
       "        [  6.11644251,   9.26709393],\n",
       "        [  7.70630321,  10.78862346],\n",
       "        [  0.79580385,  -9.00301023],\n",
       "        [  3.13114921,  -8.6849493 ],\n",
       "        [  1.3970852 ,  -7.25918415],\n",
       "        [  7.27808709,   7.15201886],\n",
       "        [  1.06965742,  -8.1648251 ],\n",
       "        [  6.37298915,   9.77705761],\n",
       "        [  7.24898455,   8.85834104],\n",
       "        [  2.09335725,  -7.66278316],\n",
       "        [  1.05865542,  -8.43841416],\n",
       "        [  6.43807502,   7.85483418],\n",
       "        [  6.94948313,   8.75248232],\n",
       "        [ -0.07326715, -11.69999644],\n",
       "        [  0.61463602,  -9.51908883],\n",
       "        [  1.31977821,  -7.2710667 ],\n",
       "        [  2.72532584,  -7.51956557],\n",
       "        [  8.20949206,  11.90419283]]),\n",
       " array([1, 1, 0, 1, 1, 1, 1, 1, 1, 0, 0, 1, 1, 0, 1, 0, 0, 0, 0, 0, 1, 1,\n",
       "        1, 0, 0, 1, 1, 0, 0, 1, 0, 0, 1, 1, 0, 0, 0, 1, 0, 1, 1, 0, 0, 1,\n",
       "        1, 0, 0, 0, 0, 1]))"
      ]
     },
     "execution_count": 64,
     "metadata": {},
     "output_type": "execute_result"
    }
   ],
   "source": [
    "data"
   ]
  },
  {
   "cell_type": "code",
   "execution_count": 65,
   "metadata": {},
   "outputs": [],
   "source": [
    "features = data[0]\n",
    "labels = data[1]"
   ]
  },
  {
   "cell_type": "code",
   "execution_count": 67,
   "metadata": {},
   "outputs": [
    {
     "data": {
      "text/plain": [
       "<matplotlib.collections.PathCollection at 0x7f7ecc69c710>"
      ]
     },
     "execution_count": 67,
     "metadata": {},
     "output_type": "execute_result"
    },
    {
     "data": {
      "image/png": "[encoded data removed]",
      "text/plain": [
       "<Figure size 432x288 with 1 Axes>"
      ]
     },
     "metadata": {
      "needs_background": "light"
     },
     "output_type": "display_data"
    }
   ],
   "source": [
    "plt.scatter(features[:,0], features[:,1], c=labels, cmap='coolwarm')"
   ]
  },
  {
   "cell_type": "code",
   "execution_count": 68,
   "metadata": {},
   "outputs": [
    {
     "data": {
      "text/plain": [
       "[<matplotlib.lines.Line2D at 0x7f7ebf55a780>]"
      ]
     },
     "execution_count": 68,
     "metadata": {},
     "output_type": "execute_result"
    },
    {
     "data": {
      "image/png": "[encoded data removed]",
      "text/plain": [
       "<Figure size 432x288 with 1 Axes>"
      ]
     },
     "metadata": {
      "needs_background": "light"
     },
     "output_type": "display_data"
    }
   ],
   "source": [
    "x = np.linspace(0,11,10)\n",
    "y = -x\n",
    "plt.scatter(features[:,0], features[:,1], c=labels, cmap='coolwarm')\n",
    "plt.plot(x,y)"
   ]
  },
  {
   "cell_type": "code",
   "execution_count": 69,
   "metadata": {},
   "outputs": [
    {
     "data": {
      "text/plain": [
       "[<matplotlib.lines.Line2D at 0x7f7ebf4e6a58>]"
      ]
     },
     "execution_count": 69,
     "metadata": {},
     "output_type": "execute_result"
    },
    {
     "data": {
      "image/png": "[encoded data removed]",
      "text/plain": [
       "<Figure size 432x288 with 1 Axes>"
      ]
     },
     "metadata": {
      "needs_background": "light"
     },
     "output_type": "display_data"
    }
   ],
   "source": [
    "x = np.linspace(0,11,10)\n",
    "y = -x + 5\n",
    "plt.scatter(features[:,0], features[:,1], c=labels, cmap='coolwarm')\n",
    "plt.plot(x,y)"
   ]
  },
  {
   "cell_type": "code",
   "execution_count": 70,
   "metadata": {},
   "outputs": [
    {
     "data": {
      "text/plain": [
       "array([13])"
      ]
     },
     "execution_count": 70,
     "metadata": {},
     "output_type": "execute_result"
    }
   ],
   "source": [
    "np.array([1,1]).dot(np.array([[8],[10]])) - 5"
   ]
  },
  {
   "cell_type": "code",
   "execution_count": 71,
   "metadata": {},
   "outputs": [
    {
     "data": {
      "text/plain": [
       "array([-13])"
      ]
     },
     "execution_count": 71,
     "metadata": {},
     "output_type": "execute_result"
    }
   ],
   "source": [
    "np.array([1,1]).dot(np.array([[2],[-10]])) - 5"
   ]
  },
  {
   "cell_type": "code",
   "execution_count": 72,
   "metadata": {},
   "outputs": [],
   "source": [
    "g = Graph()\n",
    "g.set_as_default()"
   ]
  },
  {
   "cell_type": "code",
   "execution_count": 73,
   "metadata": {},
   "outputs": [],
   "source": [
    "x = Placeholder()"
   ]
  },
  {
   "cell_type": "code",
   "execution_count": 74,
   "metadata": {},
   "outputs": [],
   "source": [
    "w = Variable([1,1])\n",
    "b = Variable(-5)"
   ]
  },
  {
   "cell_type": "code",
   "execution_count": 76,
   "metadata": {},
   "outputs": [],
   "source": [
    "z = add(matmul(w,x), b)"
   ]
  },
  {
   "cell_type": "code",
   "execution_count": 78,
   "metadata": {},
   "outputs": [],
   "source": [
    "a = Sigmoid(z)"
   ]
  },
  {
   "cell_type": "code",
   "execution_count": 79,
   "metadata": {},
   "outputs": [],
   "source": [
    "sess = Session()"
   ]
  },
  {
   "cell_type": "code",
   "execution_count": 80,
   "metadata": {},
   "outputs": [
    {
     "data": {
      "text/plain": [
       "2.2603242979035746e-06"
      ]
     },
     "execution_count": 80,
     "metadata": {},
     "output_type": "execute_result"
    }
   ],
   "source": [
    "sess.run(operation=a, feed_dict={x:[2, -10]})"
   ]
  },
  {
   "cell_type": "code",
   "execution_count": 81,
   "metadata": {},
   "outputs": [
    {
     "data": {
      "text/plain": [
       "0.999997739675702"
      ]
     },
     "execution_count": 81,
     "metadata": {},
     "output_type": "execute_result"
    }
   ],
   "source": [
    "sess.run(operation=a, feed_dict={x:[8, 10]})"
   ]
  }
 ],
 "metadata": {
  "kernelspec": {
   "display_name": "Python 3",
   "language": "python",
   "name": "python3"
  },
  "language_info": {
   "codemirror_mode": {
    "name": "ipython",
    "version": 3
   },
   "file_extension": ".py",
   "mimetype": "text/x-python",
   "name": "python",
   "nbconvert_exporter": "python",
   "pygments_lexer": "ipython3",
   "version": "3.6.8"
  }
 },
 "nbformat": 4,
 "nbformat_minor": 2
}
